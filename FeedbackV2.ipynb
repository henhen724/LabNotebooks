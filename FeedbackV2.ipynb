{
 "cells": [
  {
   "cell_type": "code",
   "execution_count": 1,
   "metadata": {},
   "outputs": [
    {
     "name": "stderr",
     "output_type": "stream",
     "text": [
      "┌ Warning: Error requiring `KrylovKit` from `LinearSolve`\n",
      "│   exception = (LoadError(\"/Users/henryhunt/.julia/packages/LinearSolve/qCLK7/ext/LinearSolveKrylovKitExt.jl\", 1, ArgumentError(\"Package LinearSolve does not have KrylovKit in its dependencies:\\n- You may have a partially installed environment. Try `Pkg.instantiate()`\\n  to ensure all packages in the environment are installed.\\n- Or, if you have LinearSolve checked out for development and have\\n  added KrylovKit as a dependency but haven't updated your primary\\n  environment's manifest file, try `Pkg.resolve()`.\\n- Otherwise you may need to report an issue with LinearSolve\")), Union{Ptr{Nothing}, Base.InterpreterIP}[Ptr{Nothing} @0x00000001066f066b, Ptr{Nothing} @0x00000001066f0837, Ptr{Nothing} @0x0000000104f24893, Ptr{Nothing} @0x0000000104f5a4db, Ptr{Nothing} @0x0000000104f592e7, Ptr{Nothing} @0x0000000104f59663, Ptr{Nothing} @0x0000000104f59c43, Ptr{Nothing} @0x0000000104f5a9d7, Ptr{Nothing} @0x000000011ba1c883, Ptr{Nothing} @0x0000000104f24893, Ptr{Nothing} @0x000000011abcb9a3, Ptr{Nothing} @0x000000011abcbac7, Ptr{Nothing} @0x000000011abcbadf, Ptr{Nothing} @0x0000000104f24893, Ptr{Nothing} @0x0000000104f31973, Ptr{Nothing} @0x000000014ed88037, Ptr{Nothing} @0x000000014ed8804f, Ptr{Nothing} @0x0000000104f24893, Ptr{Nothing} @0x0000000104f3ee77, Ptr{Nothing} @0x0000000104f3d65f, Ptr{Nothing} @0x0000000104f3dcaf, Base.InterpreterIP in top-level CodeInfo for LinearSolve at statement 15, Ptr{Nothing} @0x0000000104f59def, Ptr{Nothing} @0x0000000104f5a9d7, Ptr{Nothing} @0x000000014ed7c077, Ptr{Nothing} @0x000000014ed7c097, Ptr{Nothing} @0x0000000104f24893, Ptr{Nothing} @0x0000000104f3ee77, Ptr{Nothing} @0x0000000104f3d3c3, Ptr{Nothing} @0x0000000104f3d8e7, Ptr{Nothing} @0x0000000104f3d05f, Base.InterpreterIP in MethodInstance for Requires.err(::Any, ::Module, ::String, ::String, ::Any) at statement 4, Ptr{Nothing} @0x000000014ed70073, Ptr{Nothing} @0x000000014ed70087, Ptr{Nothing} @0x0000000104f24893, Ptr{Nothing} @0x0000000104f3ee77, Ptr{Nothing} @0x0000000104f3d3c3, Ptr{Nothing} @0x0000000104f3d8e7, Ptr{Nothing} @0x0000000104f3d05f, Base.InterpreterIP in MethodInstance for Requires.withpath(::Any, ::String) at statement 10, Ptr{Nothing} @0x000000014ed64083, Ptr{Nothing} @0x000000014ed6410b, Ptr{Nothing} @0x0000000104f24893, Ptr{Nothing} @0x0000000104f31973, Ptr{Nothing} @0x0000000147be4073, Ptr{Nothing} @0x0000000147be40fb, Ptr{Nothing} @0x0000000104f24893, Ptr{Nothing} @0x0000000104f3ee77, Ptr{Nothing} @0x0000000104f3d65f, Ptr{Nothing} @0x0000000104f3d05f, Base.InterpreterIP in MethodInstance for Requires.loadpkg(::Base.PkgId) at statement 6, Ptr{Nothing} @0x0000000104f24893, Ptr{Nothing} @0x0000000104f31973, Ptr{Nothing} @0x00000001066904bb, Ptr{Nothing} @0x00000001066a85e3, Ptr{Nothing} @0x00000001066b4f03, Ptr{Nothing} @0x00000001066d8393, Ptr{Nothing} @0x00000001066e40b3, Ptr{Nothing} @0x00000001066f039b, Ptr{Nothing} @0x00000001066f0837, Ptr{Nothing} @0x0000000104f24893, Ptr{Nothing} @0x0000000104f5a4db, Ptr{Nothing} @0x0000000104f592e7, Ptr{Nothing} @0x0000000104f59c43, Ptr{Nothing} @0x0000000104f5a9d7, Ptr{Nothing} @0x000000014657c26b, Ptr{Nothing} @0x0000000104f24893, Ptr{Nothing} @0x0000000104f31973, Ptr{Nothing} @0x00000001465581af, Ptr{Nothing} @0x000000014656427b, Ptr{Nothing} @0x00000001465700cb, Ptr{Nothing} @0x000000014657013f, Ptr{Nothing} @0x0000000104f24893, Ptr{Nothing} @0x0000000136484297, Ptr{Nothing} @0x0000000104f24893, Ptr{Nothing} @0x000000011a6452af, Ptr{Nothing} @0x000000011a65000b, Ptr{Nothing} @0x000000011a65006b, Ptr{Nothing} @0x0000000104f24893, Ptr{Nothing} @0x00000001067a49a3, Ptr{Nothing} @0x0000000104f59d4f, Ptr{Nothing} @0x0000000104f59c43, Ptr{Nothing} @0x0000000104f5a9d7, Ptr{Nothing} @0x000000011ba1c883, Ptr{Nothing} @0x0000000104f24893, Ptr{Nothing} @0x000000011abcb9a3, Ptr{Nothing} @0x000000011abcbac7, Ptr{Nothing} @0x000000011abcbadf, Ptr{Nothing} @0x0000000104f24893, Ptr{Nothing} @0x000000011a90db97, Ptr{Nothing} @0x000000011a90e583, Ptr{Nothing} @0x000000011a90e6ab, Ptr{Nothing} @0x0000000104f24893, Ptr{Nothing} @0x0000000104f81bc3, Ptr{Nothing} @0x0000000104f81abb])\n",
      "└ @ Requires /Users/henryhunt/.julia/packages/Requires/Z8rfN/src/require.jl:51\n"
     ]
    }
   ],
   "source": [
    "using QuantumOptics\n",
    "using PyPlot\n",
    "using LaTeXStrings\n",
    "using Random\n",
    "using DelimitedFiles\n",
    "using NPZ, Printf\n",
    "using LinearAlgebra\n",
    "using DifferentialEquations\n",
    "using SpecialFunctions\n",
    "using SparseArrays\n",
    "using StatsBase"
   ]
  },
  {
   "cell_type": "code",
   "execution_count": 10,
   "metadata": {},
   "outputs": [],
   "source": [
    "fockmax = 10\n",
    "b = FockBasis(fockmax)\n",
    "a = destroy(b)\n",
    "\n",
    "κ = 0.01\n",
    "Δc = 10.\n",
    "dt=0.01\n",
    "tspan = dt*collect(1:2000)\n",
    "\n",
    "C = 2*sqrt(κ)*a\n",
    "H0 = Δc*dagger(a)*a\n",
    "\n",
    "ψ0 = coherentstate(b,0.3);"
   ]
  },
  {
   "cell_type": "code",
   "execution_count": 86,
   "metadata": {},
   "outputs": [],
   "source": [
    "θ = 0.5π\n",
    "Hs = 1.0im*C*exp(-1.0im*θ)\n",
    "Y = C*exp(-1.0im*θ) + dagger(C)*exp(1.0im*θ)\n",
    "CdagC = -0.5im*dagger(C)*C\n",
    "H_nl(ψ) = expect(Y, normalize(ψ))*Hs + CdagC\n",
    "\n",
    "fdet_homodyne(t, ψ) = H0 + H_nl(ψ)\n",
    "fst_homodyne(t, ψ) = [Hs]\n",
    "tout, psi_t = stochastic.schroedinger_dynamic(tspan, ψ0, fdet_homodyne, fst_homodyne; dt=dt, normalize_state=true);"
   ]
  },
  {
   "cell_type": "code",
   "execution_count": 87,
   "metadata": {},
   "outputs": [
    {
     "data": {
      "image/png": "[encoded data removed]",
      "text/plain": [
       "Figure(PyObject <Figure size 640x480 with 1 Axes>)"
      ]
     },
     "metadata": {},
     "output_type": "display_data"
    }
   ],
   "source": [
    "plot(expect(projector(basisstate(b, 1)), psi_t))\n",
    "plot(expect(projector(basisstate(b, 2)), psi_t))\n",
    "plot(expect(projector(basisstate(b, 3)), psi_t))\n",
    "plot(expect(projector(basisstate(b, 4)), psi_t))\n",
    "plot(expect(projector(basisstate(b, 5)), psi_t))\n",
    "plot(expect(projector(basisstate(b, 6)), psi_t))\n",
    "PyPlot.display_figs()"
   ]
  },
  {
   "cell_type": "code",
   "execution_count": null,
   "metadata": {},
   "outputs": [],
   "source": []
  }
 ],
 "metadata": {
  "kernelspec": {
   "display_name": "Julia 1.8.5",
   "language": "julia",
   "name": "julia-1.8"
  },
  "language_info": {
   "file_extension": ".jl",
   "mimetype": "application/julia",
   "name": "julia",
   "version": "1.8.5"
  }
 },
 "nbformat": 4,
 "nbformat_minor": 2
}
