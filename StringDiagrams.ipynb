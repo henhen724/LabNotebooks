{
 "cells": [
  {
   "cell_type": "code",
   "execution_count": 3,
   "metadata": {},
   "outputs": [],
   "source": [
    "using Catlab.WiringDiagrams\n",
    "\n",
    "using Catlab.Graphics\n",
    "import Catlab.Graphics: Graphviz\n",
    "using Catlab.Theories"
   ]
  },
  {
   "cell_type": "code",
   "execution_count": 2,
   "metadata": {},
   "outputs": [
    {
     "data": {
      "text/plain": [
       "show_diagram (generic function with 1 method)"
      ]
     },
     "metadata": {},
     "output_type": "display_data"
    }
   ],
   "source": [
    "show_diagram(d::WiringDiagram) = to_graphviz(d,\n",
    "  orientation=LeftToRight,\n",
    "  labels=true, label_attr=:xlabel,\n",
    "  node_attrs=Graphviz.Attributes(\n",
    "    :fontname => \"Courier\",\n",
    "  ),\n",
    "  edge_attrs=Graphviz.Attributes(\n",
    "    :fontname => \"Courier\",\n",
    "  )\n",
    ")"
   ]
  },
  {
   "cell_type": "code",
   "execution_count": 7,
   "metadata": {},
   "outputs": [
    {
     "data": {
      "text/plain": [
       "WiringDiagram{Catlab.Theories.ThBiproductCategory.Meta.T}([:C], [:D], \n",
       "[ -2 => {inputs},\n",
       "  -1 => {outputs},\n",
       "  1 => Box(:h, [:C], [:D]) ],\n",
       "[ Wire((-2,1) => (1,1)),\n",
       "  Wire((1,1) => (-1,1)) ])"
      ]
     },
     "metadata": {},
     "output_type": "display_data"
    }
   ],
   "source": [
    "A, B, C, D = Ob(FreeBiproductCategory, :A, :B, :C, :D)\n",
    "f = Hom(:f, A, B)\n",
    "g = Hom(:g, B, C)\n",
    "h = Hom(:h, C, D)\n",
    "\n",
    "fB = to_wiring_diagram(f)\n",
    "gB = to_wiring_diagram(g)\n",
    "hB = to_wiring_diagram(h)"
   ]
  },
  {
   "cell_type": "code",
   "execution_count": 9,
   "metadata": {},
   "outputs": [
    {
     "data": {
      "text/plain": [
       "Catlab.Graphics.Graphviz.Graph(\"G\", true, \"dot\", Catlab.Graphics.Graphviz.Statement[Catlab.Graphics.Graphviz.Subgraph(\"\", Catlab.Graphics.Graphviz.Statement[Catlab.Graphics.Graphviz.Node(\"n0in1\", OrderedCollections.OrderedDict{Symbol, Union{String, Catlab.Graphics.Graphviz.Html}}(:id => \"in1\"))], OrderedCollections.OrderedDict{Symbol, Union{String, Catlab.Graphics.Graphviz.Html}}(:rank => \"source\", :rankdir => \"TB\"), OrderedCollections.OrderedDict{Symbol, Union{String, Catlab.Graphics.Graphviz.Html}}(:style => \"invis\", :shape => \"none\", :label => \"\", :width => \"0\", :height => \"0.333\"), OrderedCollections.OrderedDict{Symbol, Union{String, Catlab.Graphics.Graphviz.Html}}(:style => \"invis\")), Catlab.Graphics.Graphviz.Subgraph(\"\", Catlab.Graphics.Graphviz.Statement[Catlab.Graphics.Graphviz.Node(\"n0out1\", OrderedCollections.OrderedDict{Symbol, Union{String, Catlab.Graphics.Graphviz.Html}}(:id => \"out1\"))], OrderedCollections.OrderedDict{Symbol, Union{String, Catlab.Graphics.Graphviz.Html}}(:rank => \"sink\", :rankdir => \"TB\"), OrderedCollections.OrderedDict{Symbol, Union{String, Catlab.Graphics.Graphviz.Html}}(:style => \"invis\", :shape => \"none\", :label => \"\", :width => \"0\", :height => \"0.333\"), OrderedCollections.OrderedDict{Symbol, Union{String, Catlab.Graphics.Graphviz.Html}}(:style => \"invis\")), Catlab.Graphics.Graphviz.Node(\"n1\", OrderedCollections.OrderedDict{Symbol, Union{String, Catlab.Graphics.Graphviz.Html}}(:color => \"black\", :comment => \"f\", :fillcolor => \"white\", :id => \"n1\", :label => Catlab.Graphics.Graphviz.Html(\"<TABLE BORDER=\\\"0\\\" CELLPADDING=\\\"0\\\" CELLSPACING=\\\"0\\\">\\n<TR>\\n<TD><TABLE BORDER=\\\"0\\\" CELLPADDING=\\\"0\\\" CELLSPACING=\\\"0\\\"><TR><TD HEIGHT=\\\"24\\\" WIDTH=\\\"0\\\" PORT=\\\"in1\\\"></TD></TR></TABLE></TD>\\n<TD BORDER=\\\"1\\\" CELLPADDING=\\\"4\\\">f</TD>\\n<TD><TABLE BORDER=\\\"0\\\" CELLPADDING=\\\"0\\\" CELLSPACING=\\\"0\\\"><TR><TD HEIGHT=\\\"24\\\" WIDTH=\\\"0\\\" PORT=\\\"out1\\\"></TD></TR></TABLE></TD>\\n</TR>\\n</TABLE>\"), :style => \"solid\")), Catlab.Graphics.Graphviz.Node(\"n2\", OrderedCollections.OrderedDict{Symbol, Union{String, Catlab.Graphics.Graphviz.Html}}(:color => \"black\", :comment => \"g\", :fillcolor => \"white\", :id => \"n2\", :label => Catlab.Graphics.Graphviz.Html(\"<TABLE BORDER=\\\"0\\\" CELLPADDING=\\\"0\\\" CELLSPACING=\\\"0\\\">\\n<TR>\\n<TD><TABLE BORDER=\\\"0\\\" CELLPADDING=\\\"0\\\" CELLSPACING=\\\"0\\\"><TR><TD HEIGHT=\\\"24\\\" WIDTH=\\\"0\\\" PORT=\\\"in1\\\"></TD></TR></TABLE></TD>\\n<TD BORDER=\\\"1\\\" CELLPADDING=\\\"4\\\">g</TD>\\n<TD><TABLE BORDER=\\\"0\\\" CELLPADDING=\\\"0\\\" CELLSPACING=\\\"0\\\"><TR><TD HEIGHT=\\\"24\\\" WIDTH=\\\"0\\\" PORT=\\\"out1\\\"></TD></TR></TABLE></TD>\\n</TR>\\n</TABLE>\"), :style => \"solid\")), Catlab.Graphics.Graphviz.Edge(Catlab.Graphics.Graphviz.NodeID[Catlab.Graphics.Graphviz.NodeID(\"n0in1\", \"e\", \"\"), Catlab.Graphics.Graphviz.NodeID(\"n1\", \"in1\", \"w\")], OrderedCollections.OrderedDict{Symbol, Union{String, Catlab.Graphics.Graphviz.Html}}(:comment => \"A\", :id => \"e1\", :xlabel => \"A\")), Catlab.Graphics.Graphviz.Edge(Catlab.Graphics.Graphviz.NodeID[Catlab.Graphics.Graphviz.NodeID(\"n1\", \"out1\", \"e\"), Catlab.Graphics.Graphviz.NodeID(\"n2\", \"in1\", \"w\")], OrderedCollections.OrderedDict{Symbol, Union{String, Catlab.Graphics.Graphviz.Html}}(:comment => \"B\", :id => \"e2\", :xlabel => \"B\")), Catlab.Graphics.Graphviz.Edge(Catlab.Graphics.Graphviz.NodeID[Catlab.Graphics.Graphviz.NodeID(\"n2\", \"out1\", \"e\"), Catlab.Graphics.Graphviz.NodeID(\"n0out1\", \"w\", \"\")], OrderedCollections.OrderedDict{Symbol, Union{String, Catlab.Graphics.Graphviz.Html}}(:comment => \"C\", :id => \"e3\", :xlabel => \"C\"))], OrderedCollections.OrderedDict{Symbol, Union{String, Catlab.Graphics.Graphviz.Html}}(:fontname => \"Serif\", :rankdir => \"LR\"), OrderedCollections.OrderedDict{Symbol, Union{String, Catlab.Graphics.Graphviz.Html}}(:fontname => \"Courier\", :shape => \"none\", :width => \"0\", :height => \"0\", :margin => \"0\"), OrderedCollections.OrderedDict{Symbol, Union{String, Catlab.Graphics.Graphviz.Html}}(:arrowsize => \"0.5\", :fontname => \"Courier\"))"
      ]
     },
     "metadata": {},
     "output_type": "display_data"
    }
   ],
   "source": [
    "show_diagram(compose(fB,gB))"
   ]
  },
  {
   "cell_type": "code",
   "execution_count": null,
   "metadata": {},
   "outputs": [],
   "source": []
  }
 ],
 "metadata": {
  "kernelspec": {
   "display_name": "Julia 1.10.2",
   "language": "julia",
   "name": "julia-1.10"
  },
  "language_info": {
   "file_extension": ".jl",
   "mimetype": "application/julia",
   "name": "julia",
   "version": "1.10.2"
  }
 },
 "nbformat": 4,
 "nbformat_minor": 2
}
