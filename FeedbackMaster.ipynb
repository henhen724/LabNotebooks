{
 "cells": [
  {
   "cell_type": "code",
   "execution_count": 2,
   "metadata": {},
   "outputs": [
    {
     "data": {
      "text/plain": [
       "a (generic function with 1 method)"
      ]
     },
     "metadata": {},
     "output_type": "display_data"
    }
   ],
   "source": [
    "function a(N)\n",
    "    a = zeros((N, N))\n",
    "    for i = 2:N\n",
    "        a[i-1,i] = sqrt(i-1)\n",
    "    end\n",
    "    a\n",
    "end"
   ]
  },
  {
   "cell_type": "code",
   "execution_count": 3,
   "metadata": {},
   "outputs": [
    {
     "data": {
      "text/plain": [
       "3×3 Matrix{Float64}:\n",
       " 0.0  1.0  0.0\n",
       " 0.0  0.0  1.41421\n",
       " 0.0  0.0  0.0"
      ]
     },
     "metadata": {},
     "output_type": "display_data"
    }
   ],
   "source": [
    "a(3)"
   ]
  },
  {
   "cell_type": "code",
   "execution_count": 1,
   "metadata": {},
   "outputs": [
    {
     "ename": "UndefVarError",
     "evalue": "UndefVarError: dt not defined",
     "output_type": "error",
     "traceback": [
      "UndefVarError: dt not defined\n",
      "\n",
      "Stacktrace:\n",
      " [1] top-level scope\n",
      "   @ c:\\Users\\henhen724\\Desktop\\LabNotebooks\\Feedback.ipynb:10"
     ]
    }
   ],
   "source": [
    "function fdeterm(t, rho)\n",
    "    # Calculate time-dependent stuff\n",
    "    H, J, Jdagger\n",
    "end\n",
    "\n",
    "function fstoch(t, rho)\n",
    "    # Calculate time-dependent stuff\n",
    "    C, Cdagger\n",
    "end\n",
    "stochastic.master_dynamic(tspan, ρ0, fdeterm, fstoch; dt=dt)"
   ]
  }
 ],
 "metadata": {
  "kernelspec": {
   "display_name": "Julia 1.7.2",
   "language": "julia",
   "name": "julia-1.7"
  },
  "language_info": {
   "file_extension": ".jl",
   "mimetype": "application/julia",
   "name": "julia",
   "version": "1.7.2"
  },
  "orig_nbformat": 4
 },
 "nbformat": 4,
 "nbformat_minor": 2
}
