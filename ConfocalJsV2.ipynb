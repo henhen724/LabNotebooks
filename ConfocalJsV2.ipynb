{
 "cells": [
  {
   "cell_type": "code",
   "execution_count": 12,
   "metadata": {},
   "outputs": [],
   "source": [
    "import cupy as xp\n",
    "import pickle\n",
    "import numpy as np"
   ]
  },
  {
   "cell_type": "code",
   "execution_count": 13,
   "metadata": {},
   "outputs": [],
   "source": [
    "GoodJNumbers = [0,3,4,6,7,10,11,13,16,18]\n",
    "\n",
    "Jnonlocals = []\n",
    "Ks = []\n",
    "Jlocals = []\n",
    "\n",
    "for i in range(len(GoodJNumbers)):\n",
    "    with open(f\"MetropolisRuns/FindingJs/{GoodJNumbers[i]}.pickle\", \"rb\") as f:\n",
    "        loadedmet = pickle.load(f)\n",
    "    Jnonlocals.append(loadedmet.Jnonlocal)\n",
    "    Ks.append(loadedmet.K)\n",
    "    Jlocals.append(loadedmet.Jlocal)\n",
    "\n",
    "xp.save(\"ConfocalJnonlocals_v2.npy\", xp.array(Jnonlocals).get())\n",
    "xp.save(\"ConfocalKs_v2.npy\", xp.array(Ks).get())\n",
    "xp.save(\"ConfocalJlocals_v2.npy\", xp.array(Jlocals).get())"
   ]
  },
  {
   "cell_type": "code",
   "execution_count": 21,
   "metadata": {},
   "outputs": [
    {
     "name": "stdout",
     "output_type": "stream",
     "text": [
      "1.1982295125118883\n",
      "mean\n",
      "106.9008697292517\n",
      "1.2502998516646384\n",
      "mean\n",
      "-2657.1683736029418\n",
      "1.2568376649648438\n",
      "mean\n",
      "348.8042666780882\n",
      "0.9527934856054832\n",
      "mean\n",
      "1143.9279529275884\n",
      "1.0786031853099887\n",
      "mean\n",
      "100.50805843525038\n",
      "1.017259592519502\n",
      "mean\n",
      "1269.3839087574581\n",
      "1.057833986812303\n",
      "mean\n",
      "496.63275767740254\n",
      "1.0973704705579395\n",
      "mean\n",
      "-24545.142619435665\n"
     ]
    }
   ],
   "source": [
    "Jlocals = xp.load(\"ConfocalJlocals_v2.npy\")[3]\n",
    "for i in range(Jlocals.shape[0]):\n",
    "    Jnonlocal = xp.load(\"ConfocalJnonlocals_v2.npy\")[i]\n",
    "    K = xp.load(\"ConfocalKs_v2.npy\")[i]\n",
    "    print(xp.mean(Jlocals[i])/xp.linalg.norm(np.block([[xp.asnumpy(Jnonlocal), xp.asnumpy(K)],[xp.asnumpy(K), -xp.asnumpy(Jnonlocal)]])))\n",
    "    print(\"mean\")\n",
    "    print(xp.mean(Jlocals[i])/xp.mean(np.block([[xp.asnumpy(Jnonlocal), xp.asnumpy(K)],[xp.asnumpy(K), -xp.asnumpy(Jnonlocal)]])))"
   ]
  },
  {
   "cell_type": "code",
   "execution_count": null,
   "metadata": {},
   "outputs": [],
   "source": []
  }
 ],
 "metadata": {
  "kernelspec": {
   "display_name": "base",
   "language": "python",
   "name": "python3"
  },
  "language_info": {
   "codemirror_mode": {
    "name": "ipython",
    "version": 3
   },
   "file_extension": ".py",
   "mimetype": "text/x-python",
   "name": "python",
   "nbconvert_exporter": "python",
   "pygments_lexer": "ipython3",
   "version": "3.9.12"
  },
  "orig_nbformat": 4
 },
 "nbformat": 4,
 "nbformat_minor": 2
}
