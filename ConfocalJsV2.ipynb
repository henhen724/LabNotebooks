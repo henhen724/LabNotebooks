{
 "cells": [
  {
   "cell_type": "code",
   "execution_count": 4,
   "metadata": {},
   "outputs": [],
   "source": [
    "import cupy as xp\n",
    "import pickle"
   ]
  },
  {
   "cell_type": "code",
   "execution_count": 13,
   "metadata": {},
   "outputs": [],
   "source": [
    "GoodJNumbers = [0,3,4,6,7,10,11,13,16,18]\n",
    "\n",
    "Jnonlocals = []\n",
    "Ks = []\n",
    "Jlocals = []\n",
    "\n",
    "for i in range(len(GoodJNumbers)):\n",
    "    with open(f\"MetropolisRuns/FindingJs/{GoodJNumbers[i]}.pickle\", \"rb\") as f:\n",
    "        loadedmet = pickle.load(f)\n",
    "    Jnonlocals.append(loadedmet.Jnonlocal)\n",
    "    Ks.append(loadedmet.K)\n",
    "    Jlocals.append(loadedmet.Jlocal)\n",
    "\n",
    "xp.save(\"ConfocalJnonlocals_v2.npy\", xp.array(Jnonlocals).get())\n",
    "xp.save(\"ConfocalKs_v2.npy\", xp.array(Ks).get())\n",
    "xp.save(\"ConfocalJlocals_v2.npy\", xp.array(Jlocals).get())"
   ]
  },
  {
   "cell_type": "code",
   "execution_count": 7,
   "metadata": {},
   "outputs": [
    {
     "data": {
      "text/plain": [
       "array([[0.38083818, 0.38083818, 0.38083818, 0.38083818, 0.38083818,\n",
       "        0.38083818, 0.38321486, 0.38083818]])"
      ]
     },
     "execution_count": 7,
     "metadata": {},
     "output_type": "execute_result"
    }
   ],
   "source": [
    "xp.load(\"ConfocalJlocals_v2.npy\")"
   ]
  },
  {
   "cell_type": "code",
   "execution_count": 11,
   "metadata": {},
   "outputs": [
    {
     "data": {
      "text/plain": [
       "array(0.17821048)"
      ]
     },
     "execution_count": 11,
     "metadata": {},
     "output_type": "execute_result"
    }
   ],
   "source": [
    "xp.linalg.norm(xp.load(\"ConfocalJnonlocals_v2.npy\"))"
   ]
  },
  {
   "cell_type": "code",
   "execution_count": 12,
   "metadata": {},
   "outputs": [
    {
     "data": {
      "text/plain": [
       "array(0.09741107)"
      ]
     },
     "execution_count": 12,
     "metadata": {},
     "output_type": "execute_result"
    }
   ],
   "source": [
    "xp.linalg.norm(xp.load(\"ConfocalKs_v2.npy\"))"
   ]
  },
  {
   "cell_type": "code",
   "execution_count": null,
   "metadata": {},
   "outputs": [],
   "source": []
  }
 ],
 "metadata": {
  "kernelspec": {
   "display_name": "base",
   "language": "python",
   "name": "python3"
  },
  "language_info": {
   "codemirror_mode": {
    "name": "ipython",
    "version": 3
   },
   "file_extension": ".py",
   "mimetype": "text/x-python",
   "name": "python",
   "nbconvert_exporter": "python",
   "pygments_lexer": "ipython3",
   "version": "3.9.12"
  },
  "orig_nbformat": 4
 },
 "nbformat": 4,
 "nbformat_minor": 2
}
